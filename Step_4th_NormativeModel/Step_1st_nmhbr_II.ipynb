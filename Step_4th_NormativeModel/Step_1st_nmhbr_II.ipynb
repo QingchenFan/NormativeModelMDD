{
 "cells": [
  {
   "cell_type": "code",
   "execution_count": 2,
   "metadata": {
    "collapsed": true,
    "ExecuteTime": {
     "end_time": "2024-04-22T07:05:28.308813Z",
     "start_time": "2024-04-22T07:05:28.295678Z"
    }
   },
   "outputs": [],
   "source": [
    "import os\n",
    "import pandas as pd\n",
    "import pcntoolkit as ptk\n",
    "import numpy as np\n",
    "import pickle\n",
    "from matplotlib import pyplot as plt"
   ]
  },
  {
   "cell_type": "code",
   "execution_count": 71,
   "outputs": [
    {
     "name": "stdout",
     "output_type": "stream",
     "text": [
      "     participant_id  age  sex    site  LH_Vis_1  LH_Vis_2  LH_Vis_3  LH_Vis_4  \\\n",
      "1076          HC001   22    2  anding  0.016782  0.007854  0.032804  0.030094   \n",
      "1077          HC002   36    1  anding -0.012615 -0.049821  0.119106  0.014552   \n",
      "1078          HC003   31    2  anding  0.000097  0.066777  0.030972 -0.062435   \n",
      "1079          HC004   23    1  anding -0.014137 -0.018214 -0.023851 -0.027967   \n",
      "1080          HC005   30    1  anding  0.004237 -0.003509  0.012525 -0.005679   \n",
      "...             ...  ...  ...     ...       ...       ...       ...       ...   \n",
      "1184          HC110   22    1  anding  0.094591  0.028502  0.068840  0.096579   \n",
      "1185          HC111   21    2  anding -0.009974 -0.036120  0.073204  0.035446   \n",
      "1186          HC112   21    2  anding -0.028685  0.005085  0.003255  0.005168   \n",
      "1187          HC113   27    2  anding  0.158747  0.105212  0.138480  0.170459   \n",
      "1188          HC114   24    1  anding -0.046880  0.075035 -0.044596 -0.062114   \n",
      "\n",
      "      LH_Vis_5  LH_Vis_6  ...  RH_Default_pCunPCC_2  RH_Default_pCunPCC_3  \\\n",
      "1076  0.035997  0.036930  ...             -0.079268             -0.093064   \n",
      "1077  0.153160  0.107894  ...             -0.057361              0.146234   \n",
      "1078 -0.046737  0.014136  ...             -0.061138             -0.047472   \n",
      "1079 -0.024288 -0.023970  ...              0.005046             -0.016552   \n",
      "1080 -0.000665  0.032605  ...              0.038929             -0.005536   \n",
      "...        ...       ...  ...                   ...                   ...   \n",
      "1184  0.061203  0.053302  ...             -0.013250              0.053084   \n",
      "1185  0.116878  0.096258  ...              0.013631              0.007540   \n",
      "1186  0.008701  0.013593  ...              0.052873              0.085757   \n",
      "1187  0.144504  0.126783  ...              0.072308              0.151093   \n",
      "1188 -0.069090 -0.069651  ...              0.174592              0.079214   \n",
      "\n",
      "      RH_Default_pCunPCC_4  RH_Default_pCunPCC_5  RH_Default_pCunPCC_6  \\\n",
      "1076             -0.085240             -0.094484             -0.101314   \n",
      "1077             -0.032600              0.135695             -0.056708   \n",
      "1078             -0.083143             -0.077560             -0.058089   \n",
      "1079              0.011762              0.017910              0.017723   \n",
      "1080              0.062527              0.005705              0.036440   \n",
      "...                    ...                   ...                   ...   \n",
      "1184             -0.017647              0.032561             -0.025599   \n",
      "1185              0.016119              0.016114             -0.005185   \n",
      "1186              0.057654              0.079970              0.078295   \n",
      "1187              0.075712              0.088154              0.025402   \n",
      "1188              0.172453              0.172220              0.179779   \n",
      "\n",
      "      RH_Default_pCunPCC_7  RH_Default_pCunPCC_8  RH_Default_pCunPCC_9  \\\n",
      "1076             -0.097898             -0.093124             -0.087921   \n",
      "1077             -0.054508             -0.029259             -0.051564   \n",
      "1078             -0.066934             -0.076615              0.042922   \n",
      "1079             -0.061073              0.045160             -0.005261   \n",
      "1080             -0.008988              0.114184             -0.000568   \n",
      "...                    ...                   ...                   ...   \n",
      "1184             -0.003422             -0.015566              0.106241   \n",
      "1185             -0.003530              0.005084              0.000632   \n",
      "1186              0.038894              0.052494              0.043558   \n",
      "1187             -0.085277              0.024613              0.031205   \n",
      "1188              0.159817              0.168084              0.173504   \n",
      "\n",
      "      MeanGradient  sitenum  \n",
      "1076     -0.000009        0  \n",
      "1077     -0.000023        0  \n",
      "1078     -0.000007        0  \n",
      "1079     -0.000006        0  \n",
      "1080      0.000007        0  \n",
      "...            ...      ...  \n",
      "1184      0.000010        0  \n",
      "1185      0.000057        0  \n",
      "1186      0.000018        0  \n",
      "1187     -0.000014        0  \n",
      "1188      0.000016        0  \n",
      "\n",
      "[113 rows x 406 columns]\n",
      "     participant_id  age  sex site  LH_Vis_1  LH_Vis_2  LH_Vis_3  LH_Vis_4  \\\n",
      "0        sub-173839   22    2  hcp -0.031592 -0.044751 -0.018067 -0.031786   \n",
      "1        sub-100206   27    1  hcp -0.031390 -0.047454  0.012314  0.012903   \n",
      "2        sub-100307   27    2  hcp  0.018464  0.016179  0.010906  0.091619   \n",
      "3        sub-100408   33    1  hcp  0.015888  0.024508  0.006799  0.014546   \n",
      "4        sub-101006   35    2  hcp  0.007062  0.018179  0.004390  0.011662   \n",
      "...             ...  ...  ...  ...       ...       ...       ...       ...   \n",
      "1071     sub-943862   27    1  hcp -0.000600 -0.046196 -0.046308 -0.041802   \n",
      "1072     sub-953764   32    2  hcp  0.080805  0.090789  0.023010  0.060265   \n",
      "1073     sub-955465   27    1  hcp -0.036096 -0.042104 -0.036392 -0.055113   \n",
      "1074     sub-957974   28    2  hcp -0.012435 -0.005141 -0.011886 -0.009561   \n",
      "1075     sub-958976   29    1  hcp -0.069720 -0.056603 -0.066917 -0.050697   \n",
      "\n",
      "      LH_Vis_5  LH_Vis_6  ...  RH_Default_pCunPCC_2  RH_Default_pCunPCC_3  \\\n",
      "0     0.002450 -0.026338  ...              0.003284             -0.004616   \n",
      "1     0.034375  0.005651  ...             -0.027322             -0.075608   \n",
      "2    -0.044180  0.000303  ...              0.074113              0.142625   \n",
      "3    -0.030760  0.007124  ...             -0.037001             -0.012237   \n",
      "4    -0.056018  0.009437  ...              0.016851              0.131648   \n",
      "...        ...       ...  ...                   ...                   ...   \n",
      "1071 -0.041304 -0.053264  ...             -0.027587             -0.029912   \n",
      "1072 -0.030554  0.038887  ...             -0.034489              0.071690   \n",
      "1073 -0.009096 -0.034613  ...             -0.008590             -0.061329   \n",
      "1074 -0.010267 -0.010499  ...             -0.007704             -0.002095   \n",
      "1075 -0.036362 -0.074315  ...              0.056029             -0.011140   \n",
      "\n",
      "      RH_Default_pCunPCC_4  RH_Default_pCunPCC_5  RH_Default_pCunPCC_6  \\\n",
      "0                 0.051021              0.069265              0.005580   \n",
      "1                -0.044038             -0.062206             -0.056806   \n",
      "2                 0.111718              0.014623              0.024392   \n",
      "3                -0.024623             -0.037078             -0.019537   \n",
      "4                -0.006405             -0.000855              0.012924   \n",
      "...                    ...                   ...                   ...   \n",
      "1071             -0.012961             -0.040953             -0.036758   \n",
      "1072             -0.012716             -0.077648             -0.025211   \n",
      "1073             -0.017208             -0.018625             -0.045842   \n",
      "1074             -0.017187             -0.012524             -0.007387   \n",
      "1075              0.024574              0.061777             -0.010197   \n",
      "\n",
      "      RH_Default_pCunPCC_7  RH_Default_pCunPCC_8  RH_Default_pCunPCC_9  \\\n",
      "0                -0.007921              0.062653             -0.005546   \n",
      "1                -0.080061              0.052664             -0.025252   \n",
      "2                 0.134615              0.037456              0.011016   \n",
      "3                 0.029838             -0.038781             -0.001793   \n",
      "4                 0.053028             -0.059605             -0.029023   \n",
      "...                    ...                   ...                   ...   \n",
      "1071             -0.035668             -0.027994             -0.036062   \n",
      "1072              0.041710             -0.073485             -0.037740   \n",
      "1073             -0.064949              0.036481              0.006042   \n",
      "1074              0.003063             -0.004523              0.015693   \n",
      "1075             -0.074517              0.090471             -0.009662   \n",
      "\n",
      "      MeanGradient  sitenum  \n",
      "0    -3.340000e-05        0  \n",
      "1     6.530000e-05        0  \n",
      "2    -1.360000e-05        0  \n",
      "3     2.050000e-06        0  \n",
      "4     1.030000e-07        0  \n",
      "...            ...      ...  \n",
      "1071  6.710000e-07        0  \n",
      "1072  1.390000e-06        0  \n",
      "1073 -1.160000e-05        0  \n",
      "1074 -6.290000e-06        0  \n",
      "1075 -2.750000e-06        0  \n",
      "\n",
      "[1076 rows x 406 columns]\n"
     ]
    },
    {
     "name": "stderr",
     "output_type": "stream",
     "text": [
      "/var/folders/dh/dmftg40j21j249nqf2z5v2nh0000gn/T/ipykernel_92166/3596967063.py:3: SettingWithCopyWarning: \n",
      "A value is trying to be set on a copy of a slice from a DataFrame.\n",
      "Try using .loc[row_indexer,col_indexer] = value instead\n",
      "\n",
      "See the caveats in the documentation: https://pandas.pydata.org/pandas-docs/stable/user_guide/indexing.html#returning-a-view-versus-a-copy\n",
      "  anding['sitenum'] = 0                             # 加一列，标识站点 - 0\n"
     ]
    }
   ],
   "source": [
    "allHC = pd.read_csv('/Volumes/QCI/NormativeModel/FeatureData/allHCfeature.csv')\n",
    "anding = allHC.loc[allHC['site'] == 'anding']     # 获取site = \"anding\"\n",
    "anding['sitenum'] = 0                             # 加一列，标识站点 - 0\n",
    "\n",
    "allHC = allHC.loc[allHC['site'] != 'anding']     # 获取其他站点的数据(此时的allHC,从allHC中排除了anding 站点\n",
    "sites = allHC['site'].unique()                   # 获取其他站点名称\n",
    "\n",
    "allHC['sitenum'] = 0                             # 所有站点 标识为 - 0\n"
   ],
   "metadata": {
    "collapsed": false,
    "ExecuteTime": {
     "end_time": "2024-04-22T10:50:27.024290Z",
     "start_time": "2024-04-22T10:50:26.959668Z"
    }
   }
  },
  {
   "cell_type": "code",
   "execution_count": 15,
   "outputs": [
    {
     "name": "stdout",
     "output_type": "stream",
     "text": [
      "site hcp 1076\n"
     ]
    },
    {
     "name": "stderr",
     "output_type": "stream",
     "text": [
      "/var/folders/dh/dmftg40j21j249nqf2z5v2nh0000gn/T/ipykernel_92166/1862517469.py:5: FutureWarning: ChainedAssignmentError: behaviour will change in pandas 3.0!\n",
      "You are setting values through chained assignment. Currently this works in certain cases, but when using Copy-on-Write (which will become the default behaviour in pandas 3.0) this will never work to update the original DataFrame or Series, because the intermediate object on which we are setting values will behave as a copy.\n",
      "A typical example is when you are setting values in a column of a DataFrame, like:\n",
      "\n",
      "df[\"col\"][row_indexer] = value\n",
      "\n",
      "Use `df.loc[row_indexer, \"col\"] = values` instead, to perform the assignment in a single step and ensure this keeps updating the original `df`.\n",
      "\n",
      "See the caveats in the documentation: https://pandas.pydata.org/pandas-docs/stable/user_guide/indexing.html#returning-a-view-versus-a-copy\n",
      "\n",
      "  allHC['sitenum'].loc[idx] = i                  # 为每一个站点进行标识 - 0 1 2 ...\n",
      "/var/folders/dh/dmftg40j21j249nqf2z5v2nh0000gn/T/ipykernel_92166/1862517469.py:5: SettingWithCopyWarning: \n",
      "A value is trying to be set on a copy of a slice from a DataFrame\n",
      "\n",
      "See the caveats in the documentation: https://pandas.pydata.org/pandas-docs/stable/user_guide/indexing.html#returning-a-view-versus-a-copy\n",
      "  allHC['sitenum'].loc[idx] = i                  # 为每一个站点进行标识 - 0 1 2 ...\n"
     ]
    },
    {
     "data": {
      "text/plain": "Text(0.5, 0, 'age')"
     },
     "execution_count": 15,
     "metadata": {},
     "output_type": "execute_result"
    },
    {
     "data": {
      "text/plain": "<Figure size 1200x1200 with 1 Axes>",
      "image/png": "[encoded data removed]"
     },
     "metadata": {},
     "output_type": "display_data"
    }
   ],
   "source": [
    "f, ax = plt.subplots(figsize=(12, 12))\n",
    "\n",
    "for i,s in enumerate(sites):\n",
    "    idx = allHC['site'] == s\n",
    "    allHC['sitenum'].loc[idx] = i                  # 为每一个站点进行标识 - 0 1 2 ...\n",
    "\n",
    "    print('site',s, sum(idx))\n",
    "    ax.scatter(allHC['age'].loc[idx], allHC['MeanGradient'].loc[idx])\n",
    "\n",
    "ax.legend(sites)\n",
    "ax.set_ylabel('MeanGradient')\n",
    "ax.set_xlabel('age')"
   ],
   "metadata": {
    "collapsed": false,
    "ExecuteTime": {
     "end_time": "2024-04-22T07:05:46.300939Z",
     "start_time": "2024-04-22T07:05:46.186216Z"
    }
   }
  },
  {
   "cell_type": "code",
   "execution_count": 72,
   "outputs": [
    {
     "name": "stdout",
     "output_type": "stream",
     "text": [
      "     participant_id  age  sex site  LH_Vis_1  LH_Vis_2  LH_Vis_3  LH_Vis_4  \\\n",
      "0        sub-173839   22    2  hcp -0.031592 -0.044751 -0.018067 -0.031786   \n",
      "1        sub-100206   27    1  hcp -0.031390 -0.047454  0.012314  0.012903   \n",
      "2        sub-100307   27    2  hcp  0.018464  0.016179  0.010906  0.091619   \n",
      "3        sub-100408   33    1  hcp  0.015888  0.024508  0.006799  0.014546   \n",
      "4        sub-101006   35    2  hcp  0.007062  0.018179  0.004390  0.011662   \n",
      "...             ...  ...  ...  ...       ...       ...       ...       ...   \n",
      "1071     sub-943862   27    1  hcp -0.000600 -0.046196 -0.046308 -0.041802   \n",
      "1072     sub-953764   32    2  hcp  0.080805  0.090789  0.023010  0.060265   \n",
      "1073     sub-955465   27    1  hcp -0.036096 -0.042104 -0.036392 -0.055113   \n",
      "1074     sub-957974   28    2  hcp -0.012435 -0.005141 -0.011886 -0.009561   \n",
      "1075     sub-958976   29    1  hcp -0.069720 -0.056603 -0.066917 -0.050697   \n",
      "\n",
      "      LH_Vis_5  LH_Vis_6  ...  RH_Default_pCunPCC_2  RH_Default_pCunPCC_3  \\\n",
      "0     0.002450 -0.026338  ...              0.003284             -0.004616   \n",
      "1     0.034375  0.005651  ...             -0.027322             -0.075608   \n",
      "2    -0.044180  0.000303  ...              0.074113              0.142625   \n",
      "3    -0.030760  0.007124  ...             -0.037001             -0.012237   \n",
      "4    -0.056018  0.009437  ...              0.016851              0.131648   \n",
      "...        ...       ...  ...                   ...                   ...   \n",
      "1071 -0.041304 -0.053264  ...             -0.027587             -0.029912   \n",
      "1072 -0.030554  0.038887  ...             -0.034489              0.071690   \n",
      "1073 -0.009096 -0.034613  ...             -0.008590             -0.061329   \n",
      "1074 -0.010267 -0.010499  ...             -0.007704             -0.002095   \n",
      "1075 -0.036362 -0.074315  ...              0.056029             -0.011140   \n",
      "\n",
      "      RH_Default_pCunPCC_4  RH_Default_pCunPCC_5  RH_Default_pCunPCC_6  \\\n",
      "0                 0.051021              0.069265              0.005580   \n",
      "1                -0.044038             -0.062206             -0.056806   \n",
      "2                 0.111718              0.014623              0.024392   \n",
      "3                -0.024623             -0.037078             -0.019537   \n",
      "4                -0.006405             -0.000855              0.012924   \n",
      "...                    ...                   ...                   ...   \n",
      "1071             -0.012961             -0.040953             -0.036758   \n",
      "1072             -0.012716             -0.077648             -0.025211   \n",
      "1073             -0.017208             -0.018625             -0.045842   \n",
      "1074             -0.017187             -0.012524             -0.007387   \n",
      "1075              0.024574              0.061777             -0.010197   \n",
      "\n",
      "      RH_Default_pCunPCC_7  RH_Default_pCunPCC_8  RH_Default_pCunPCC_9  \\\n",
      "0                -0.007921              0.062653             -0.005546   \n",
      "1                -0.080061              0.052664             -0.025252   \n",
      "2                 0.134615              0.037456              0.011016   \n",
      "3                 0.029838             -0.038781             -0.001793   \n",
      "4                 0.053028             -0.059605             -0.029023   \n",
      "...                    ...                   ...                   ...   \n",
      "1071             -0.035668             -0.027994             -0.036062   \n",
      "1072              0.041710             -0.073485             -0.037740   \n",
      "1073             -0.064949              0.036481              0.006042   \n",
      "1074              0.003063             -0.004523              0.015693   \n",
      "1075             -0.074517              0.090471             -0.009662   \n",
      "\n",
      "      MeanGradient  sitenum  \n",
      "0    -3.340000e-05        0  \n",
      "1     6.530000e-05        0  \n",
      "2    -1.360000e-05        0  \n",
      "3     2.050000e-06        0  \n",
      "4     1.030000e-07        0  \n",
      "...            ...      ...  \n",
      "1071  6.710000e-07        0  \n",
      "1072  1.390000e-06        0  \n",
      "1073 -1.160000e-05        0  \n",
      "1074 -6.290000e-06        0  \n",
      "1075 -2.750000e-06        0  \n",
      "\n",
      "[1076 rows x 406 columns]\n",
      "sample size check\n",
      "0 hcp 553 523\n"
     ]
    }
   ],
   "source": [
    "tr = np.random.uniform(size=allHC.shape[0]) > 0.5  # 形成一个随机抽样\n",
    "te = ~tr\n",
    "allHC_tr = allHC.loc[tr]\n",
    "allHC_te = allHC.loc[te]                            # 将fcon中数据一分为2 ture false\n",
    "\n",
    "tr = np.random.uniform(size=anding.shape[0]) > 0.5  # 将anding 数据也形成一个随机抽样\n",
    "te = ~tr\n",
    "\n",
    "anding_tr = anding.loc[tr]\n",
    "anding_te = anding.loc[te]\n",
    "\n",
    "print('sample size check')\n",
    "for i,s in enumerate(sites):\n",
    "    idx = allHC_tr['site'] == s\n",
    "    idxte = allHC_te['site'] == s\n",
    "    print(i,s, sum(idx), sum(idxte))"
   ],
   "metadata": {
    "collapsed": false,
    "ExecuteTime": {
     "end_time": "2024-04-22T10:51:24.311216Z",
     "start_time": "2024-04-22T10:51:24.299923Z"
    }
   }
  },
  {
   "cell_type": "code",
   "execution_count": 35,
   "outputs": [],
   "source": [
    "processing_dir = \"/Users/qingchen/Documents/code/NormativeModelMDD/Step_4th_NormativeModel/Data\"\n",
    "if not os.path.isdir(processing_dir):\n",
    "    os.mkdir(processing_dir)\n",
    "allHC_tr.to_csv(processing_dir + '/allHC_tr.csv')\n",
    "allHC_te.to_csv(processing_dir + '/allHC_te.csv')\n",
    "anding_tr.to_csv(processing_dir + '/allHC_anding_tr.csv')\n",
    "anding_te.to_csv(processing_dir + '/allHC_anding_te.csv')"
   ],
   "metadata": {
    "collapsed": false,
    "ExecuteTime": {
     "end_time": "2024-04-22T08:38:49.044339Z",
     "start_time": "2024-04-22T08:38:48.806550Z"
    }
   }
  },
  {
   "cell_type": "code",
   "execution_count": 65,
   "outputs": [],
   "source": [
    "idps = ['LH_Vis_21','LH_Vis_22','LH_Vis_23','LH_Vis_24','LH_Vis_25','LH_Vis_26',\n",
    "        'LH_Vis_27','LH_Vis_28','LH_Vis_29','LH_Vis_30']\n"
   ],
   "metadata": {
    "collapsed": false,
    "ExecuteTime": {
     "end_time": "2024-04-22T10:36:05.223840Z",
     "start_time": "2024-04-22T10:36:05.217090Z"
    }
   }
  },
  {
   "cell_type": "code",
   "execution_count": 66,
   "outputs": [
    {
     "name": "stdout",
     "output_type": "stream",
     "text": [
      "[0.27 0.33 0.35 0.22 0.29 0.29 0.27 0.26 0.26 0.3  0.3  0.34 0.25 0.32\n",
      " 0.36 0.29 0.31 0.33 0.28 0.29 0.26 0.25 0.35 0.22 0.35 0.32 0.31 0.27\n",
      " 0.28 0.31 0.29 0.29 0.28 0.32 0.34 0.23 0.25 0.27 0.23 0.25 0.33 0.25\n",
      " 0.36 0.23 0.29 0.29 0.3  0.3  0.22 0.33 0.26 0.29 0.23 0.26 0.25 0.33\n",
      " 0.26 0.28 0.26 0.29 0.26 0.32 0.33 0.31 0.29 0.26 0.35 0.29 0.28 0.22\n",
      " 0.32 0.23 0.26 0.31 0.35 0.32 0.34 0.3  0.35 0.22 0.26 0.3  0.25 0.28\n",
      " 0.28 0.3  0.25 0.29 0.27 0.27 0.29 0.31 0.26 0.23 0.27 0.32 0.31 0.22\n",
      " 0.32 0.23 0.32 0.33 0.23 0.28 0.35 0.26 0.27 0.33 0.27 0.27 0.32 0.29\n",
      " 0.26 0.23 0.27 0.26 0.34 0.27 0.28 0.32 0.29 0.31 0.28 0.33 0.27 0.25\n",
      " 0.25 0.32 0.26 0.3  0.31 0.31 0.35 0.29 0.29 0.23 0.23 0.34 0.35 0.32\n",
      " 0.28 0.27 0.25 0.34 0.29 0.3  0.33 0.24 0.33 0.32 0.27 0.31 0.24 0.28\n",
      " 0.3  0.35 0.26 0.24 0.25 0.35 0.34 0.32 0.24 0.35 0.28 0.32 0.26 0.25\n",
      " 0.26 0.32 0.22 0.28 0.33 0.29 0.27 0.28 0.3  0.23 0.31 0.31 0.27 0.32\n",
      " 0.24 0.31 0.32 0.3  0.29 0.31 0.32 0.26 0.23 0.35 0.33 0.24 0.34 0.32\n",
      " 0.27 0.27 0.27 0.34 0.33 0.33 0.31 0.35 0.31 0.26 0.29 0.26 0.31 0.28\n",
      " 0.25 0.28 0.31 0.22 0.28 0.35 0.26 0.27 0.3  0.35 0.28 0.28 0.24 0.3\n",
      " 0.27 0.27 0.31 0.26 0.35 0.31 0.27 0.28 0.3  0.27 0.23 0.26 0.28 0.32\n",
      " 0.25 0.31 0.32 0.34 0.25 0.32 0.26 0.22 0.23 0.36 0.25 0.27 0.28 0.31\n",
      " 0.23 0.3  0.3  0.26 0.28 0.24 0.3  0.29 0.31 0.27 0.32 0.28 0.26 0.32\n",
      " 0.33 0.3  0.34 0.34 0.32 0.31 0.26 0.3  0.23 0.34 0.29 0.31 0.24 0.24\n",
      " 0.28 0.27 0.22 0.26 0.28 0.24 0.31 0.29 0.27 0.33 0.32 0.3  0.28 0.31\n",
      " 0.31 0.24 0.24 0.3  0.35 0.25 0.34 0.24 0.29 0.33 0.31 0.31 0.27 0.34\n",
      " 0.29 0.27 0.29 0.23 0.28 0.34 0.26 0.29 0.27 0.29 0.26 0.26 0.26 0.33\n",
      " 0.26 0.28 0.32 0.28 0.33 0.27 0.28 0.27 0.31 0.32 0.32 0.27 0.31 0.23\n",
      " 0.28 0.34 0.24 0.28 0.29 0.26 0.26 0.33 0.34 0.33 0.29 0.31 0.29 0.24\n",
      " 0.34 0.34 0.26 0.27 0.28 0.32 0.27 0.31 0.29 0.23 0.3  0.26 0.33 0.31\n",
      " 0.29 0.31 0.32 0.25 0.28 0.27 0.26 0.25 0.23 0.33 0.35 0.31 0.3  0.27\n",
      " 0.25 0.27 0.26 0.23 0.25 0.35 0.34 0.33 0.35 0.24 0.23 0.32 0.32 0.31\n",
      " 0.27 0.33 0.35 0.32 0.28 0.33 0.27 0.33 0.25 0.23 0.32 0.26 0.24 0.27\n",
      " 0.32 0.22 0.28 0.25 0.23 0.35 0.26 0.33 0.28 0.25 0.22 0.35 0.3  0.25\n",
      " 0.27 0.3  0.28 0.25 0.23 0.3  0.27 0.25 0.33 0.22 0.31 0.27 0.33 0.35\n",
      " 0.29 0.29 0.35 0.25 0.36 0.3  0.25 0.31 0.25 0.34 0.3  0.32 0.33 0.23\n",
      " 0.24 0.25 0.23 0.33 0.22 0.24 0.25 0.33 0.29 0.29 0.23 0.29 0.25 0.36\n",
      " 0.29 0.26 0.29 0.28 0.28 0.27 0.24 0.26 0.34 0.35 0.28 0.31 0.37 0.34\n",
      " 0.22 0.29 0.26 0.32 0.34 0.28 0.31 0.3  0.29 0.28 0.28 0.22 0.26 0.28\n",
      " 0.27 0.3  0.33 0.3  0.28 0.36 0.35 0.28 0.34 0.32 0.23 0.32 0.22 0.27\n",
      " 0.35 0.34 0.33 0.3  0.33 0.35 0.27 0.27 0.32 0.35 0.27 0.29 0.33 0.25\n",
      " 0.33 0.33 0.31 0.22 0.32 0.24 0.23 0.3  0.27 0.35 0.35 0.33 0.3  0.27\n",
      " 0.29 0.22 0.27 0.29]\n",
      "[[ 0.02292759  0.06715496  0.01833095 ...  0.16186321  0.15687843\n",
      "   0.10416583]\n",
      " [ 0.06035996  0.05616244  0.05324703 ...  0.08958209  0.09270479\n",
      "   0.09221586]\n",
      " [ 0.03488502  0.01858595  0.02553901 ...  0.10108043  0.13163263\n",
      "   0.15635143]\n",
      " ...\n",
      " [ 0.02186831  0.01907107  0.02951792 ...  0.08266511  0.10845056\n",
      "   0.12746458]\n",
      " [-0.03804515 -0.02219908 -0.04391875 ... -0.10685463 -0.10547558\n",
      "  -0.03671765]\n",
      " [-0.07866378 -0.08004538 -0.0834027  ... -0.09822965 -0.09996795\n",
      "  -0.05126706]]\n"
     ]
    }
   ],
   "source": [
    "pro_dir = '/Users/qingchen/Documents/code/NormativeModelMDD/Step_4th_NormativeModel/Data/Result3/'\n",
    "if not os.path.isdir(pro_dir):\n",
    "    os.mkdir(pro_dir)\n",
    "os.chdir(pro_dir)\n",
    "pro_dir = os.getcwd()\n",
    "\n",
    "X_train = (allHC_tr['age']/100).to_numpy(dtype=float)\n",
    "print(X_train)\n",
    "Y_train = allHC_tr[idps].to_numpy(dtype=float)\n",
    "print(Y_train)\n",
    "batch_effects_train = allHC_tr[['sitenum']].to_numpy(dtype=int)\n",
    "\n",
    "with open('X_train.pkl', 'wb') as file:\n",
    "    pickle.dump(pd.DataFrame(X_train), file)\n",
    "with open('Y_train.pkl', 'wb') as file:\n",
    "    pickle.dump(pd.DataFrame(Y_train), file)\n",
    "with open('trbefile.pkl', 'wb') as file:\n",
    "    pickle.dump(pd.DataFrame(batch_effects_train), file)"
   ],
   "metadata": {
    "collapsed": false,
    "ExecuteTime": {
     "end_time": "2024-04-22T10:36:06.788361Z",
     "start_time": "2024-04-22T10:36:06.780829Z"
    }
   }
  },
  {
   "cell_type": "code",
   "execution_count": 67,
   "outputs": [],
   "source": [
    "X_test = (allHC_te['age']/100).to_numpy(dtype=float)\n",
    "Y_test = allHC_te[idps].to_numpy(dtype=float)\n",
    "\n",
    "batch_effects_test = allHC_te[['sitenum']].to_numpy(dtype=int)\n",
    "with open('X_test.pkl', 'wb') as file:\n",
    "    pickle.dump(pd.DataFrame(X_test), file)\n",
    "with open('Y_test.pkl', 'wb') as file:\n",
    "    pickle.dump(pd.DataFrame(Y_test), file)\n",
    "with open('tsbefile.pkl', 'wb') as file:\n",
    "    pickle.dump(pd.DataFrame(batch_effects_test), file)"
   ],
   "metadata": {
    "collapsed": false,
    "ExecuteTime": {
     "end_time": "2024-04-22T10:36:08.864225Z",
     "start_time": "2024-04-22T10:36:08.858148Z"
    }
   }
  },
  {
   "cell_type": "code",
   "execution_count": 68,
   "outputs": [],
   "source": [
    "# a simple function to quickly load pickle files\n",
    "def ldpkl(filename: str):\n",
    "    with open(filename, 'rb') as f:\n",
    "        return pickle.load(f)"
   ],
   "metadata": {
    "collapsed": false,
    "ExecuteTime": {
     "end_time": "2024-04-22T10:36:10.635843Z",
     "start_time": "2024-04-22T10:36:10.627592Z"
    }
   }
  },
  {
   "cell_type": "code",
   "execution_count": 69,
   "outputs": [],
   "source": [
    "respfile = os.path.join(pro_dir, 'Y_train.pkl')       # measurements  (eg cortical thickness) of the training samples (columns: the various features/ROIs, rows: observations or subjects)\n",
    "covfile = os.path.join(pro_dir, 'X_train.pkl')        # covariates (eg age) the training samples (columns: covariates, rows: observations or subjects)\n",
    "testrespfile_path = os.path.join(pro_dir, 'Y_test.pkl')       # measurements  for the testing samples\n",
    "testcovfile_path = os.path.join(pro_dir, 'X_test.pkl')        # covariate file for the testing samples\n",
    "\n",
    "trbefile = os.path.join(pro_dir, 'trbefile.pkl')      # training batch effects file (eg scanner_id, gender)  (columns: the various batch effects, rows: observations or subjects)\n",
    "tsbefile = os.path.join(pro_dir, 'tsbefile.pkl')      # testing batch effects file\n",
    "\n",
    "output_path = os.path.join(pro_dir, 'Models/')    #  output path, where the models will be written\n",
    "\n",
    "log_dir = os.path.join(pro_dir, 'log/')\n",
    "if not os.path.isdir(output_path):\n",
    "    os.mkdir(output_path)\n",
    "if not os.path.isdir(log_dir):\n",
    "    os.mkdir(log_dir)\n",
    "outputsuffix = '_estimate'"
   ],
   "metadata": {
    "collapsed": false,
    "ExecuteTime": {
     "end_time": "2024-04-22T10:36:12.328711Z",
     "start_time": "2024-04-22T10:36:12.322019Z"
    }
   }
  },
  {
   "cell_type": "code",
   "execution_count": 70,
   "outputs": [
    {
     "name": "stdout",
     "output_type": "stream",
     "text": [
      "Processing data in /Users/qingchen/Documents/code/NormativeModelMDD/Step_4th_NormativeModel/Data/Result3/Y_train.pkl\n",
      "Estimating model  1 of 10\n"
     ]
    },
    {
     "name": "stderr",
     "output_type": "stream",
     "text": [
      "Auto-assigning NUTS sampler...\n",
      "Initializing NUTS using jitter+adapt_diag...\n",
      "Sequential sampling (1 chains in 1 job)\n",
      "NUTS: [mu_slope_mu, sigma_slope_mu, offset_slope_mu, mu_intercept_mu, sigma_intercept_mu, offset_intercept_mu, mu_sigma, sigma_sigma, sigma]\n"
     ]
    },
    {
     "data": {
      "text/plain": "<IPython.core.display.HTML object>",
      "text/html": "\n<style>\n    /* Turns off some styling */\n    progress {\n        /* gets rid of default border in Firefox and Opera. */\n        border: none;\n        /* Needs to be in here for Safari polyfill so background images work as expected. */\n        background-size: auto;\n    }\n    progress:not([value]), progress:not([value])::-webkit-progress-bar {\n        background: repeating-linear-gradient(45deg, #7e7e7e, #7e7e7e 10px, #5c5c5c 10px, #5c5c5c 20px);\n    }\n    .progress-bar-interrupted, .progress-bar-interrupted::-webkit-progress-bar {\n        background: #F44336;\n    }\n</style>\n"
     },
     "metadata": {},
     "output_type": "display_data"
    },
    {
     "data": {
      "text/plain": "<IPython.core.display.HTML object>",
      "text/html": "\n    <div>\n      <progress value='0' class='' max='1500' style='width:300px; height:20px; vertical-align: middle;'></progress>\n      \n    </div>\n    "
     },
     "metadata": {},
     "output_type": "display_data"
    },
    {
     "name": "stderr",
     "output_type": "stream",
     "text": [
      "Sampling 1 chain for 500 tune and 1_000 draw iterations (500 + 1_000 draws total) took 112 seconds.\n",
      "Only one chain was sampled, this makes it impossible to run some convergence checks\n",
      "Sampling: [y_like]\n"
     ]
    },
    {
     "data": {
      "text/plain": "<IPython.core.display.HTML object>",
      "text/html": "\n<style>\n    /* Turns off some styling */\n    progress {\n        /* gets rid of default border in Firefox and Opera. */\n        border: none;\n        /* Needs to be in here for Safari polyfill so background images work as expected. */\n        background-size: auto;\n    }\n    progress:not([value]), progress:not([value])::-webkit-progress-bar {\n        background: repeating-linear-gradient(45deg, #7e7e7e, #7e7e7e 10px, #5c5c5c 10px, #5c5c5c 20px);\n    }\n    .progress-bar-interrupted, .progress-bar-interrupted::-webkit-progress-bar {\n        background: #F44336;\n    }\n</style>\n"
     },
     "metadata": {},
     "output_type": "display_data"
    },
    {
     "data": {
      "text/plain": "<IPython.core.display.HTML object>",
      "text/html": "\n    <div>\n      <progress value='0' class='' max='1000' style='width:300px; height:20px; vertical-align: middle;'></progress>\n      \n    </div>\n    "
     },
     "metadata": {},
     "output_type": "display_data"
    },
    {
     "name": "stdout",
     "output_type": "stream",
     "text": [
      "Estimating model  2 of 10\n"
     ]
    },
    {
     "name": "stderr",
     "output_type": "stream",
     "text": [
      "Auto-assigning NUTS sampler...\n",
      "Initializing NUTS using jitter+adapt_diag...\n",
      "Sequential sampling (1 chains in 1 job)\n",
      "NUTS: [mu_slope_mu, sigma_slope_mu, offset_slope_mu, mu_intercept_mu, sigma_intercept_mu, offset_intercept_mu, mu_sigma, sigma_sigma, sigma]\n"
     ]
    },
    {
     "data": {
      "text/plain": "<IPython.core.display.HTML object>",
      "text/html": "\n<style>\n    /* Turns off some styling */\n    progress {\n        /* gets rid of default border in Firefox and Opera. */\n        border: none;\n        /* Needs to be in here for Safari polyfill so background images work as expected. */\n        background-size: auto;\n    }\n    progress:not([value]), progress:not([value])::-webkit-progress-bar {\n        background: repeating-linear-gradient(45deg, #7e7e7e, #7e7e7e 10px, #5c5c5c 10px, #5c5c5c 20px);\n    }\n    .progress-bar-interrupted, .progress-bar-interrupted::-webkit-progress-bar {\n        background: #F44336;\n    }\n</style>\n"
     },
     "metadata": {},
     "output_type": "display_data"
    },
    {
     "data": {
      "text/plain": "<IPython.core.display.HTML object>",
      "text/html": "\n    <div>\n      <progress value='0' class='' max='1500' style='width:300px; height:20px; vertical-align: middle;'></progress>\n      \n    </div>\n    "
     },
     "metadata": {},
     "output_type": "display_data"
    },
    {
     "name": "stderr",
     "output_type": "stream",
     "text": [
      "Sampling 1 chain for 500 tune and 1_000 draw iterations (500 + 1_000 draws total) took 31 seconds.\n",
      "Only one chain was sampled, this makes it impossible to run some convergence checks\n",
      "Sampling: [y_like]\n"
     ]
    },
    {
     "data": {
      "text/plain": "<IPython.core.display.HTML object>",
      "text/html": "\n<style>\n    /* Turns off some styling */\n    progress {\n        /* gets rid of default border in Firefox and Opera. */\n        border: none;\n        /* Needs to be in here for Safari polyfill so background images work as expected. */\n        background-size: auto;\n    }\n    progress:not([value]), progress:not([value])::-webkit-progress-bar {\n        background: repeating-linear-gradient(45deg, #7e7e7e, #7e7e7e 10px, #5c5c5c 10px, #5c5c5c 20px);\n    }\n    .progress-bar-interrupted, .progress-bar-interrupted::-webkit-progress-bar {\n        background: #F44336;\n    }\n</style>\n"
     },
     "metadata": {},
     "output_type": "display_data"
    },
    {
     "data": {
      "text/plain": "<IPython.core.display.HTML object>",
      "text/html": "\n    <div>\n      <progress value='0' class='' max='1000' style='width:300px; height:20px; vertical-align: middle;'></progress>\n      \n    </div>\n    "
     },
     "metadata": {},
     "output_type": "display_data"
    },
    {
     "name": "stdout",
     "output_type": "stream",
     "text": [
      "Estimating model  3 of 10\n"
     ]
    },
    {
     "name": "stderr",
     "output_type": "stream",
     "text": [
      "Auto-assigning NUTS sampler...\n",
      "Initializing NUTS using jitter+adapt_diag...\n",
      "Sequential sampling (1 chains in 1 job)\n",
      "NUTS: [mu_slope_mu, sigma_slope_mu, offset_slope_mu, mu_intercept_mu, sigma_intercept_mu, offset_intercept_mu, mu_sigma, sigma_sigma, sigma]\n"
     ]
    },
    {
     "data": {
      "text/plain": "<IPython.core.display.HTML object>",
      "text/html": "\n<style>\n    /* Turns off some styling */\n    progress {\n        /* gets rid of default border in Firefox and Opera. */\n        border: none;\n        /* Needs to be in here for Safari polyfill so background images work as expected. */\n        background-size: auto;\n    }\n    progress:not([value]), progress:not([value])::-webkit-progress-bar {\n        background: repeating-linear-gradient(45deg, #7e7e7e, #7e7e7e 10px, #5c5c5c 10px, #5c5c5c 20px);\n    }\n    .progress-bar-interrupted, .progress-bar-interrupted::-webkit-progress-bar {\n        background: #F44336;\n    }\n</style>\n"
     },
     "metadata": {},
     "output_type": "display_data"
    },
    {
     "data": {
      "text/plain": "<IPython.core.display.HTML object>",
      "text/html": "\n    <div>\n      <progress value='0' class='' max='1500' style='width:300px; height:20px; vertical-align: middle;'></progress>\n      \n    </div>\n    "
     },
     "metadata": {},
     "output_type": "display_data"
    },
    {
     "name": "stderr",
     "output_type": "stream",
     "text": [
      "Sampling 1 chain for 500 tune and 1_000 draw iterations (500 + 1_000 draws total) took 136 seconds.\n",
      "Only one chain was sampled, this makes it impossible to run some convergence checks\n",
      "Sampling: [y_like]\n"
     ]
    },
    {
     "data": {
      "text/plain": "<IPython.core.display.HTML object>",
      "text/html": "\n<style>\n    /* Turns off some styling */\n    progress {\n        /* gets rid of default border in Firefox and Opera. */\n        border: none;\n        /* Needs to be in here for Safari polyfill so background images work as expected. */\n        background-size: auto;\n    }\n    progress:not([value]), progress:not([value])::-webkit-progress-bar {\n        background: repeating-linear-gradient(45deg, #7e7e7e, #7e7e7e 10px, #5c5c5c 10px, #5c5c5c 20px);\n    }\n    .progress-bar-interrupted, .progress-bar-interrupted::-webkit-progress-bar {\n        background: #F44336;\n    }\n</style>\n"
     },
     "metadata": {},
     "output_type": "display_data"
    },
    {
     "data": {
      "text/plain": "<IPython.core.display.HTML object>",
      "text/html": "\n    <div>\n      <progress value='0' class='' max='1000' style='width:300px; height:20px; vertical-align: middle;'></progress>\n      \n    </div>\n    "
     },
     "metadata": {},
     "output_type": "display_data"
    },
    {
     "name": "stdout",
     "output_type": "stream",
     "text": [
      "Estimating model  4 of 10\n"
     ]
    },
    {
     "name": "stderr",
     "output_type": "stream",
     "text": [
      "Auto-assigning NUTS sampler...\n",
      "Initializing NUTS using jitter+adapt_diag...\n",
      "Sequential sampling (1 chains in 1 job)\n",
      "NUTS: [mu_slope_mu, sigma_slope_mu, offset_slope_mu, mu_intercept_mu, sigma_intercept_mu, offset_intercept_mu, mu_sigma, sigma_sigma, sigma]\n"
     ]
    },
    {
     "data": {
      "text/plain": "<IPython.core.display.HTML object>",
      "text/html": "\n<style>\n    /* Turns off some styling */\n    progress {\n        /* gets rid of default border in Firefox and Opera. */\n        border: none;\n        /* Needs to be in here for Safari polyfill so background images work as expected. */\n        background-size: auto;\n    }\n    progress:not([value]), progress:not([value])::-webkit-progress-bar {\n        background: repeating-linear-gradient(45deg, #7e7e7e, #7e7e7e 10px, #5c5c5c 10px, #5c5c5c 20px);\n    }\n    .progress-bar-interrupted, .progress-bar-interrupted::-webkit-progress-bar {\n        background: #F44336;\n    }\n</style>\n"
     },
     "metadata": {},
     "output_type": "display_data"
    },
    {
     "data": {
      "text/plain": "<IPython.core.display.HTML object>",
      "text/html": "\n    <div>\n      <progress value='0' class='' max='1500' style='width:300px; height:20px; vertical-align: middle;'></progress>\n      \n    </div>\n    "
     },
     "metadata": {},
     "output_type": "display_data"
    },
    {
     "name": "stderr",
     "output_type": "stream",
     "text": [
      "Sampling 1 chain for 500 tune and 1_000 draw iterations (500 + 1_000 draws total) took 114 seconds.\n",
      "Only one chain was sampled, this makes it impossible to run some convergence checks\n",
      "Sampling: [y_like]\n"
     ]
    },
    {
     "data": {
      "text/plain": "<IPython.core.display.HTML object>",
      "text/html": "\n<style>\n    /* Turns off some styling */\n    progress {\n        /* gets rid of default border in Firefox and Opera. */\n        border: none;\n        /* Needs to be in here for Safari polyfill so background images work as expected. */\n        background-size: auto;\n    }\n    progress:not([value]), progress:not([value])::-webkit-progress-bar {\n        background: repeating-linear-gradient(45deg, #7e7e7e, #7e7e7e 10px, #5c5c5c 10px, #5c5c5c 20px);\n    }\n    .progress-bar-interrupted, .progress-bar-interrupted::-webkit-progress-bar {\n        background: #F44336;\n    }\n</style>\n"
     },
     "metadata": {},
     "output_type": "display_data"
    },
    {
     "data": {
      "text/plain": "<IPython.core.display.HTML object>",
      "text/html": "\n    <div>\n      <progress value='0' class='' max='1000' style='width:300px; height:20px; vertical-align: middle;'></progress>\n      \n    </div>\n    "
     },
     "metadata": {},
     "output_type": "display_data"
    },
    {
     "name": "stdout",
     "output_type": "stream",
     "text": [
      "Estimating model  5 of 10\n"
     ]
    },
    {
     "name": "stderr",
     "output_type": "stream",
     "text": [
      "Auto-assigning NUTS sampler...\n",
      "Initializing NUTS using jitter+adapt_diag...\n",
      "Sequential sampling (1 chains in 1 job)\n",
      "NUTS: [mu_slope_mu, sigma_slope_mu, offset_slope_mu, mu_intercept_mu, sigma_intercept_mu, offset_intercept_mu, mu_sigma, sigma_sigma, sigma]\n"
     ]
    },
    {
     "data": {
      "text/plain": "<IPython.core.display.HTML object>",
      "text/html": "\n<style>\n    /* Turns off some styling */\n    progress {\n        /* gets rid of default border in Firefox and Opera. */\n        border: none;\n        /* Needs to be in here for Safari polyfill so background images work as expected. */\n        background-size: auto;\n    }\n    progress:not([value]), progress:not([value])::-webkit-progress-bar {\n        background: repeating-linear-gradient(45deg, #7e7e7e, #7e7e7e 10px, #5c5c5c 10px, #5c5c5c 20px);\n    }\n    .progress-bar-interrupted, .progress-bar-interrupted::-webkit-progress-bar {\n        background: #F44336;\n    }\n</style>\n"
     },
     "metadata": {},
     "output_type": "display_data"
    },
    {
     "data": {
      "text/plain": "<IPython.core.display.HTML object>",
      "text/html": "\n    <div>\n      <progress value='0' class='' max='1500' style='width:300px; height:20px; vertical-align: middle;'></progress>\n      \n    </div>\n    "
     },
     "metadata": {},
     "output_type": "display_data"
    },
    {
     "name": "stderr",
     "output_type": "stream",
     "text": [
      "Sampling 1 chain for 500 tune and 1_000 draw iterations (500 + 1_000 draws total) took 67 seconds.\n",
      "Only one chain was sampled, this makes it impossible to run some convergence checks\n",
      "Sampling: [y_like]\n"
     ]
    },
    {
     "data": {
      "text/plain": "<IPython.core.display.HTML object>",
      "text/html": "\n<style>\n    /* Turns off some styling */\n    progress {\n        /* gets rid of default border in Firefox and Opera. */\n        border: none;\n        /* Needs to be in here for Safari polyfill so background images work as expected. */\n        background-size: auto;\n    }\n    progress:not([value]), progress:not([value])::-webkit-progress-bar {\n        background: repeating-linear-gradient(45deg, #7e7e7e, #7e7e7e 10px, #5c5c5c 10px, #5c5c5c 20px);\n    }\n    .progress-bar-interrupted, .progress-bar-interrupted::-webkit-progress-bar {\n        background: #F44336;\n    }\n</style>\n"
     },
     "metadata": {},
     "output_type": "display_data"
    },
    {
     "data": {
      "text/plain": "<IPython.core.display.HTML object>",
      "text/html": "\n    <div>\n      <progress value='0' class='' max='1000' style='width:300px; height:20px; vertical-align: middle;'></progress>\n      \n    </div>\n    "
     },
     "metadata": {},
     "output_type": "display_data"
    },
    {
     "name": "stdout",
     "output_type": "stream",
     "text": [
      "Estimating model  6 of 10\n"
     ]
    },
    {
     "name": "stderr",
     "output_type": "stream",
     "text": [
      "Auto-assigning NUTS sampler...\n",
      "Initializing NUTS using jitter+adapt_diag...\n",
      "Sequential sampling (1 chains in 1 job)\n",
      "NUTS: [mu_slope_mu, sigma_slope_mu, offset_slope_mu, mu_intercept_mu, sigma_intercept_mu, offset_intercept_mu, mu_sigma, sigma_sigma, sigma]\n"
     ]
    },
    {
     "data": {
      "text/plain": "<IPython.core.display.HTML object>",
      "text/html": "\n<style>\n    /* Turns off some styling */\n    progress {\n        /* gets rid of default border in Firefox and Opera. */\n        border: none;\n        /* Needs to be in here for Safari polyfill so background images work as expected. */\n        background-size: auto;\n    }\n    progress:not([value]), progress:not([value])::-webkit-progress-bar {\n        background: repeating-linear-gradient(45deg, #7e7e7e, #7e7e7e 10px, #5c5c5c 10px, #5c5c5c 20px);\n    }\n    .progress-bar-interrupted, .progress-bar-interrupted::-webkit-progress-bar {\n        background: #F44336;\n    }\n</style>\n"
     },
     "metadata": {},
     "output_type": "display_data"
    },
    {
     "data": {
      "text/plain": "<IPython.core.display.HTML object>",
      "text/html": "\n    <div>\n      <progress value='0' class='' max='1500' style='width:300px; height:20px; vertical-align: middle;'></progress>\n      \n    </div>\n    "
     },
     "metadata": {},
     "output_type": "display_data"
    },
    {
     "name": "stderr",
     "output_type": "stream",
     "text": [
      "Sampling 1 chain for 500 tune and 1_000 draw iterations (500 + 1_000 draws total) took 137 seconds.\n",
      "Only one chain was sampled, this makes it impossible to run some convergence checks\n",
      "Sampling: [y_like]\n"
     ]
    },
    {
     "data": {
      "text/plain": "<IPython.core.display.HTML object>",
      "text/html": "\n<style>\n    /* Turns off some styling */\n    progress {\n        /* gets rid of default border in Firefox and Opera. */\n        border: none;\n        /* Needs to be in here for Safari polyfill so background images work as expected. */\n        background-size: auto;\n    }\n    progress:not([value]), progress:not([value])::-webkit-progress-bar {\n        background: repeating-linear-gradient(45deg, #7e7e7e, #7e7e7e 10px, #5c5c5c 10px, #5c5c5c 20px);\n    }\n    .progress-bar-interrupted, .progress-bar-interrupted::-webkit-progress-bar {\n        background: #F44336;\n    }\n</style>\n"
     },
     "metadata": {},
     "output_type": "display_data"
    },
    {
     "data": {
      "text/plain": "<IPython.core.display.HTML object>",
      "text/html": "\n    <div>\n      <progress value='0' class='' max='1000' style='width:300px; height:20px; vertical-align: middle;'></progress>\n      \n    </div>\n    "
     },
     "metadata": {},
     "output_type": "display_data"
    },
    {
     "name": "stdout",
     "output_type": "stream",
     "text": [
      "Estimating model  7 of 10\n"
     ]
    },
    {
     "name": "stderr",
     "output_type": "stream",
     "text": [
      "Auto-assigning NUTS sampler...\n",
      "Initializing NUTS using jitter+adapt_diag...\n",
      "Sequential sampling (1 chains in 1 job)\n",
      "NUTS: [mu_slope_mu, sigma_slope_mu, offset_slope_mu, mu_intercept_mu, sigma_intercept_mu, offset_intercept_mu, mu_sigma, sigma_sigma, sigma]\n"
     ]
    },
    {
     "data": {
      "text/plain": "<IPython.core.display.HTML object>",
      "text/html": "\n<style>\n    /* Turns off some styling */\n    progress {\n        /* gets rid of default border in Firefox and Opera. */\n        border: none;\n        /* Needs to be in here for Safari polyfill so background images work as expected. */\n        background-size: auto;\n    }\n    progress:not([value]), progress:not([value])::-webkit-progress-bar {\n        background: repeating-linear-gradient(45deg, #7e7e7e, #7e7e7e 10px, #5c5c5c 10px, #5c5c5c 20px);\n    }\n    .progress-bar-interrupted, .progress-bar-interrupted::-webkit-progress-bar {\n        background: #F44336;\n    }\n</style>\n"
     },
     "metadata": {},
     "output_type": "display_data"
    },
    {
     "data": {
      "text/plain": "<IPython.core.display.HTML object>",
      "text/html": "\n    <div>\n      <progress value='0' class='' max='1500' style='width:300px; height:20px; vertical-align: middle;'></progress>\n      \n    </div>\n    "
     },
     "metadata": {},
     "output_type": "display_data"
    },
    {
     "name": "stderr",
     "output_type": "stream",
     "text": [
      "Sampling 1 chain for 500 tune and 1_000 draw iterations (500 + 1_000 draws total) took 119 seconds.\n",
      "Only one chain was sampled, this makes it impossible to run some convergence checks\n",
      "Sampling: [y_like]\n"
     ]
    },
    {
     "data": {
      "text/plain": "<IPython.core.display.HTML object>",
      "text/html": "\n<style>\n    /* Turns off some styling */\n    progress {\n        /* gets rid of default border in Firefox and Opera. */\n        border: none;\n        /* Needs to be in here for Safari polyfill so background images work as expected. */\n        background-size: auto;\n    }\n    progress:not([value]), progress:not([value])::-webkit-progress-bar {\n        background: repeating-linear-gradient(45deg, #7e7e7e, #7e7e7e 10px, #5c5c5c 10px, #5c5c5c 20px);\n    }\n    .progress-bar-interrupted, .progress-bar-interrupted::-webkit-progress-bar {\n        background: #F44336;\n    }\n</style>\n"
     },
     "metadata": {},
     "output_type": "display_data"
    },
    {
     "data": {
      "text/plain": "<IPython.core.display.HTML object>",
      "text/html": "\n    <div>\n      <progress value='0' class='' max='1000' style='width:300px; height:20px; vertical-align: middle;'></progress>\n      \n    </div>\n    "
     },
     "metadata": {},
     "output_type": "display_data"
    },
    {
     "name": "stdout",
     "output_type": "stream",
     "text": [
      "Estimating model  8 of 10\n"
     ]
    },
    {
     "name": "stderr",
     "output_type": "stream",
     "text": [
      "Auto-assigning NUTS sampler...\n",
      "Initializing NUTS using jitter+adapt_diag...\n",
      "Sequential sampling (1 chains in 1 job)\n",
      "NUTS: [mu_slope_mu, sigma_slope_mu, offset_slope_mu, mu_intercept_mu, sigma_intercept_mu, offset_intercept_mu, mu_sigma, sigma_sigma, sigma]\n"
     ]
    },
    {
     "data": {
      "text/plain": "<IPython.core.display.HTML object>",
      "text/html": "\n<style>\n    /* Turns off some styling */\n    progress {\n        /* gets rid of default border in Firefox and Opera. */\n        border: none;\n        /* Needs to be in here for Safari polyfill so background images work as expected. */\n        background-size: auto;\n    }\n    progress:not([value]), progress:not([value])::-webkit-progress-bar {\n        background: repeating-linear-gradient(45deg, #7e7e7e, #7e7e7e 10px, #5c5c5c 10px, #5c5c5c 20px);\n    }\n    .progress-bar-interrupted, .progress-bar-interrupted::-webkit-progress-bar {\n        background: #F44336;\n    }\n</style>\n"
     },
     "metadata": {},
     "output_type": "display_data"
    },
    {
     "data": {
      "text/plain": "<IPython.core.display.HTML object>",
      "text/html": "\n    <div>\n      <progress value='0' class='' max='1500' style='width:300px; height:20px; vertical-align: middle;'></progress>\n      \n    </div>\n    "
     },
     "metadata": {},
     "output_type": "display_data"
    },
    {
     "name": "stderr",
     "output_type": "stream",
     "text": [
      "Sampling 1 chain for 500 tune and 964 draw iterations (500 + 964 draws total) took 115 seconds.\n",
      "Only one chain was sampled, this makes it impossible to run some convergence checks\n",
      "Sampling: [y_like]\n"
     ]
    },
    {
     "data": {
      "text/plain": "<IPython.core.display.HTML object>",
      "text/html": "\n<style>\n    /* Turns off some styling */\n    progress {\n        /* gets rid of default border in Firefox and Opera. */\n        border: none;\n        /* Needs to be in here for Safari polyfill so background images work as expected. */\n        background-size: auto;\n    }\n    progress:not([value]), progress:not([value])::-webkit-progress-bar {\n        background: repeating-linear-gradient(45deg, #7e7e7e, #7e7e7e 10px, #5c5c5c 10px, #5c5c5c 20px);\n    }\n    .progress-bar-interrupted, .progress-bar-interrupted::-webkit-progress-bar {\n        background: #F44336;\n    }\n</style>\n"
     },
     "metadata": {},
     "output_type": "display_data"
    },
    {
     "data": {
      "text/plain": "<IPython.core.display.HTML object>",
      "text/html": "\n    <div>\n      <progress value='0' class='' max='964' style='width:300px; height:20px; vertical-align: middle;'></progress>\n      \n    </div>\n    "
     },
     "metadata": {},
     "output_type": "display_data"
    },
    {
     "name": "stdout",
     "output_type": "stream",
     "text": [
      "Estimating model  9 of 10\n"
     ]
    },
    {
     "name": "stderr",
     "output_type": "stream",
     "text": [
      "\n",
      "KeyboardInterrupt\n",
      "\n"
     ]
    }
   ],
   "source": [
    "ptk.normative.estimate(covfile=covfile,\n",
    "                       respfile=respfile,\n",
    "                       tsbefile=tsbefile,\n",
    "                       trbefile=trbefile,\n",
    "                       #inscaler='standardize',\n",
    "                       #outscaler='standardize',\n",
    "                       #linear_mu='True',\n",
    "                       #random_intercept_mu='True',\n",
    "                       #centered_intercept_mu='True',\n",
    "                       alg='hbr',\n",
    "                       log_path=log_dir,\n",
    "                       binary=True,\n",
    "                       output_path=output_path,\n",
    "                       testcov= testcovfile_path,\n",
    "                       testresp = testrespfile_path,\n",
    "                       outputsuffix=outputsuffix,\n",
    "                       savemodel=True)"
   ],
   "metadata": {
    "collapsed": false,
    "ExecuteTime": {
     "end_time": "2024-04-22T10:50:24.967741Z",
     "start_time": "2024-04-22T10:36:14.318457Z"
    }
   }
  },
  {
   "cell_type": "code",
   "execution_count": 53,
   "outputs": [],
   "source": [
    "X_adapt = (anding_tr['age']/100).to_numpy(dtype=float)\n",
    "Y_adapt = anding_tr[idps].to_numpy(dtype=float)\n",
    "#batch_effects_adapt = icbm_tr[['sitenum','sex']].to_numpy(dtype=int)\n",
    "batch_effects_adapt = anding_tr[['sitenum']].to_numpy(dtype=int)\n",
    "\n",
    "with open('X_adaptation.pkl', 'wb') as file:\n",
    "    pickle.dump(pd.DataFrame(X_adapt), file)\n",
    "with open('Y_adaptation.pkl', 'wb') as file:\n",
    "    pickle.dump(pd.DataFrame(Y_adapt), file)\n",
    "with open('adbefile.pkl', 'wb') as file:\n",
    "    pickle.dump(pd.DataFrame(batch_effects_adapt), file)\n",
    "\n",
    "# Test data (new dataset)\n",
    "X_test_txfr = (anding_te['age']/100).to_numpy(dtype=float)\n",
    "Y_test_txfr = anding_te[idps].to_numpy(dtype=float)\n",
    "#batch_effects_test_txfr = icbm_te[['sitenum','sex']].to_numpy(dtype=int)\n",
    "batch_effects_test_txfr = anding_te[['sitenum']].to_numpy(dtype=int)\n",
    "\n",
    "with open('X_test_txfr.pkl', 'wb') as file:\n",
    "    pickle.dump(pd.DataFrame(X_test_txfr), file)\n",
    "with open('Y_test_txfr.pkl', 'wb') as file:\n",
    "    pickle.dump(pd.DataFrame(Y_test_txfr), file)\n",
    "with open('txbefile.pkl', 'wb') as file:\n",
    "    pickle.dump(pd.DataFrame(batch_effects_test_txfr), file)"
   ],
   "metadata": {
    "collapsed": false,
    "ExecuteTime": {
     "end_time": "2024-04-22T09:27:30.520400Z",
     "start_time": "2024-04-22T09:27:30.502121Z"
    }
   }
  },
  {
   "cell_type": "code",
   "execution_count": 54,
   "outputs": [
    {
     "name": "stdout",
     "output_type": "stream",
     "text": [
      "/Users/qingchen/Documents/code/NormativeModelMDD/Step_4th_NormativeModel/Data/Result2/Models/\n"
     ]
    }
   ],
   "source": [
    "respfile = os.path.join(pro_dir, 'Y_adaptation.pkl')\n",
    "covfile = os.path.join(pro_dir, 'X_adaptation.pkl')\n",
    "testrespfile_path = os.path.join(pro_dir, 'Y_test_txfr.pkl')\n",
    "testcovfile_path = os.path.join(pro_dir, 'X_test_txfr.pkl')\n",
    "trbefile = os.path.join(pro_dir, 'adbefile.pkl')\n",
    "tsbefile = os.path.join(pro_dir, 'txbefile.pkl')\n",
    "\n",
    "log_dir = os.path.join(pro_dir, 'log_transfer/')\n",
    "output_path = os.path.join(pro_dir, 'Transfer/')\n",
    "model_path = os.path.join(pro_dir, 'Models/')  # path to the previously trained models\n",
    "print(model_path)\n",
    "outputsuffix = '_transfer'"
   ],
   "metadata": {
    "collapsed": false,
    "ExecuteTime": {
     "end_time": "2024-04-22T09:27:33.631114Z",
     "start_time": "2024-04-22T09:27:33.626433Z"
    }
   }
  },
  {
   "cell_type": "code",
   "execution_count": 55,
   "outputs": [
    {
     "name": "stdout",
     "output_type": "stream",
     "text": [
      "Loading data ...\n",
      "Using HBR transform...\n",
      "Transferring model  1 of 10\n"
     ]
    },
    {
     "name": "stderr",
     "output_type": "stream",
     "text": [
      "Auto-assigning NUTS sampler...\n",
      "Initializing NUTS using jitter+adapt_diag...\n",
      "Sequential sampling (1 chains in 1 job)\n",
      "NUTS: [mu_slope_mu, sigma_slope_mu, offset_slope_mu, mu_intercept_mu, sigma_intercept_mu, offset_intercept_mu, mu_sigma, sigma_sigma, sigma]\n"
     ]
    },
    {
     "data": {
      "text/plain": "<IPython.core.display.HTML object>",
      "text/html": "\n<style>\n    /* Turns off some styling */\n    progress {\n        /* gets rid of default border in Firefox and Opera. */\n        border: none;\n        /* Needs to be in here for Safari polyfill so background images work as expected. */\n        background-size: auto;\n    }\n    progress:not([value]), progress:not([value])::-webkit-progress-bar {\n        background: repeating-linear-gradient(45deg, #7e7e7e, #7e7e7e 10px, #5c5c5c 10px, #5c5c5c 20px);\n    }\n    .progress-bar-interrupted, .progress-bar-interrupted::-webkit-progress-bar {\n        background: #F44336;\n    }\n</style>\n"
     },
     "metadata": {},
     "output_type": "display_data"
    },
    {
     "data": {
      "text/plain": "<IPython.core.display.HTML object>",
      "text/html": "\n    <div>\n      <progress value='0' class='' max='1500' style='width:300px; height:20px; vertical-align: middle;'></progress>\n      \n    </div>\n    "
     },
     "metadata": {},
     "output_type": "display_data"
    },
    {
     "name": "stderr",
     "output_type": "stream",
     "text": [
      "Sampling 1 chain for 500 tune and 1_000 draw iterations (500 + 1_000 draws total) took 22 seconds.\n",
      "Only one chain was sampled, this makes it impossible to run some convergence checks\n",
      "Sampling: [y_like]\n"
     ]
    },
    {
     "data": {
      "text/plain": "<IPython.core.display.HTML object>",
      "text/html": "\n<style>\n    /* Turns off some styling */\n    progress {\n        /* gets rid of default border in Firefox and Opera. */\n        border: none;\n        /* Needs to be in here for Safari polyfill so background images work as expected. */\n        background-size: auto;\n    }\n    progress:not([value]), progress:not([value])::-webkit-progress-bar {\n        background: repeating-linear-gradient(45deg, #7e7e7e, #7e7e7e 10px, #5c5c5c 10px, #5c5c5c 20px);\n    }\n    .progress-bar-interrupted, .progress-bar-interrupted::-webkit-progress-bar {\n        background: #F44336;\n    }\n</style>\n"
     },
     "metadata": {},
     "output_type": "display_data"
    },
    {
     "data": {
      "text/plain": "<IPython.core.display.HTML object>",
      "text/html": "\n    <div>\n      <progress value='0' class='' max='1000' style='width:300px; height:20px; vertical-align: middle;'></progress>\n      \n    </div>\n    "
     },
     "metadata": {},
     "output_type": "display_data"
    },
    {
     "name": "stdout",
     "output_type": "stream",
     "text": [
      "Using HBR transform...\n",
      "Transferring model  2 of 10\n"
     ]
    },
    {
     "name": "stderr",
     "output_type": "stream",
     "text": [
      "Auto-assigning NUTS sampler...\n",
      "Initializing NUTS using jitter+adapt_diag...\n",
      "Sequential sampling (1 chains in 1 job)\n",
      "NUTS: [mu_slope_mu, sigma_slope_mu, offset_slope_mu, mu_intercept_mu, sigma_intercept_mu, offset_intercept_mu, mu_sigma, sigma_sigma, sigma]\n"
     ]
    },
    {
     "data": {
      "text/plain": "<IPython.core.display.HTML object>",
      "text/html": "\n<style>\n    /* Turns off some styling */\n    progress {\n        /* gets rid of default border in Firefox and Opera. */\n        border: none;\n        /* Needs to be in here for Safari polyfill so background images work as expected. */\n        background-size: auto;\n    }\n    progress:not([value]), progress:not([value])::-webkit-progress-bar {\n        background: repeating-linear-gradient(45deg, #7e7e7e, #7e7e7e 10px, #5c5c5c 10px, #5c5c5c 20px);\n    }\n    .progress-bar-interrupted, .progress-bar-interrupted::-webkit-progress-bar {\n        background: #F44336;\n    }\n</style>\n"
     },
     "metadata": {},
     "output_type": "display_data"
    },
    {
     "data": {
      "text/plain": "<IPython.core.display.HTML object>",
      "text/html": "\n    <div>\n      <progress value='0' class='' max='1500' style='width:300px; height:20px; vertical-align: middle;'></progress>\n      \n    </div>\n    "
     },
     "metadata": {},
     "output_type": "display_data"
    },
    {
     "name": "stderr",
     "output_type": "stream",
     "text": [
      "Sampling 1 chain for 500 tune and 1_000 draw iterations (500 + 1_000 draws total) took 2 seconds.\n",
      "Only one chain was sampled, this makes it impossible to run some convergence checks\n",
      "Sampling: [y_like]\n"
     ]
    },
    {
     "data": {
      "text/plain": "<IPython.core.display.HTML object>",
      "text/html": "\n<style>\n    /* Turns off some styling */\n    progress {\n        /* gets rid of default border in Firefox and Opera. */\n        border: none;\n        /* Needs to be in here for Safari polyfill so background images work as expected. */\n        background-size: auto;\n    }\n    progress:not([value]), progress:not([value])::-webkit-progress-bar {\n        background: repeating-linear-gradient(45deg, #7e7e7e, #7e7e7e 10px, #5c5c5c 10px, #5c5c5c 20px);\n    }\n    .progress-bar-interrupted, .progress-bar-interrupted::-webkit-progress-bar {\n        background: #F44336;\n    }\n</style>\n"
     },
     "metadata": {},
     "output_type": "display_data"
    },
    {
     "data": {
      "text/plain": "<IPython.core.display.HTML object>",
      "text/html": "\n    <div>\n      <progress value='0' class='' max='1000' style='width:300px; height:20px; vertical-align: middle;'></progress>\n      \n    </div>\n    "
     },
     "metadata": {},
     "output_type": "display_data"
    },
    {
     "name": "stdout",
     "output_type": "stream",
     "text": [
      "Using HBR transform...\n",
      "Transferring model  3 of 10\n"
     ]
    },
    {
     "name": "stderr",
     "output_type": "stream",
     "text": [
      "Auto-assigning NUTS sampler...\n",
      "Initializing NUTS using jitter+adapt_diag...\n",
      "Sequential sampling (1 chains in 1 job)\n",
      "NUTS: [mu_slope_mu, sigma_slope_mu, offset_slope_mu, mu_intercept_mu, sigma_intercept_mu, offset_intercept_mu, mu_sigma, sigma_sigma, sigma]\n"
     ]
    },
    {
     "data": {
      "text/plain": "<IPython.core.display.HTML object>",
      "text/html": "\n<style>\n    /* Turns off some styling */\n    progress {\n        /* gets rid of default border in Firefox and Opera. */\n        border: none;\n        /* Needs to be in here for Safari polyfill so background images work as expected. */\n        background-size: auto;\n    }\n    progress:not([value]), progress:not([value])::-webkit-progress-bar {\n        background: repeating-linear-gradient(45deg, #7e7e7e, #7e7e7e 10px, #5c5c5c 10px, #5c5c5c 20px);\n    }\n    .progress-bar-interrupted, .progress-bar-interrupted::-webkit-progress-bar {\n        background: #F44336;\n    }\n</style>\n"
     },
     "metadata": {},
     "output_type": "display_data"
    },
    {
     "data": {
      "text/plain": "<IPython.core.display.HTML object>",
      "text/html": "\n    <div>\n      <progress value='0' class='' max='1500' style='width:300px; height:20px; vertical-align: middle;'></progress>\n      \n    </div>\n    "
     },
     "metadata": {},
     "output_type": "display_data"
    },
    {
     "name": "stderr",
     "output_type": "stream",
     "text": [
      "Sampling 1 chain for 500 tune and 1_000 draw iterations (500 + 1_000 draws total) took 25 seconds.\n",
      "Only one chain was sampled, this makes it impossible to run some convergence checks\n",
      "Sampling: [y_like]\n"
     ]
    },
    {
     "data": {
      "text/plain": "<IPython.core.display.HTML object>",
      "text/html": "\n<style>\n    /* Turns off some styling */\n    progress {\n        /* gets rid of default border in Firefox and Opera. */\n        border: none;\n        /* Needs to be in here for Safari polyfill so background images work as expected. */\n        background-size: auto;\n    }\n    progress:not([value]), progress:not([value])::-webkit-progress-bar {\n        background: repeating-linear-gradient(45deg, #7e7e7e, #7e7e7e 10px, #5c5c5c 10px, #5c5c5c 20px);\n    }\n    .progress-bar-interrupted, .progress-bar-interrupted::-webkit-progress-bar {\n        background: #F44336;\n    }\n</style>\n"
     },
     "metadata": {},
     "output_type": "display_data"
    },
    {
     "data": {
      "text/plain": "<IPython.core.display.HTML object>",
      "text/html": "\n    <div>\n      <progress value='0' class='' max='1000' style='width:300px; height:20px; vertical-align: middle;'></progress>\n      \n    </div>\n    "
     },
     "metadata": {},
     "output_type": "display_data"
    },
    {
     "name": "stdout",
     "output_type": "stream",
     "text": [
      "Using HBR transform...\n",
      "Transferring model  4 of 10\n"
     ]
    },
    {
     "name": "stderr",
     "output_type": "stream",
     "text": [
      "Auto-assigning NUTS sampler...\n",
      "Initializing NUTS using jitter+adapt_diag...\n",
      "Sequential sampling (1 chains in 1 job)\n",
      "NUTS: [mu_slope_mu, sigma_slope_mu, offset_slope_mu, mu_intercept_mu, sigma_intercept_mu, offset_intercept_mu, mu_sigma, sigma_sigma, sigma]\n"
     ]
    },
    {
     "data": {
      "text/plain": "<IPython.core.display.HTML object>",
      "text/html": "\n<style>\n    /* Turns off some styling */\n    progress {\n        /* gets rid of default border in Firefox and Opera. */\n        border: none;\n        /* Needs to be in here for Safari polyfill so background images work as expected. */\n        background-size: auto;\n    }\n    progress:not([value]), progress:not([value])::-webkit-progress-bar {\n        background: repeating-linear-gradient(45deg, #7e7e7e, #7e7e7e 10px, #5c5c5c 10px, #5c5c5c 20px);\n    }\n    .progress-bar-interrupted, .progress-bar-interrupted::-webkit-progress-bar {\n        background: #F44336;\n    }\n</style>\n"
     },
     "metadata": {},
     "output_type": "display_data"
    },
    {
     "data": {
      "text/plain": "<IPython.core.display.HTML object>",
      "text/html": "\n    <div>\n      <progress value='0' class='' max='1500' style='width:300px; height:20px; vertical-align: middle;'></progress>\n      \n    </div>\n    "
     },
     "metadata": {},
     "output_type": "display_data"
    },
    {
     "name": "stderr",
     "output_type": "stream",
     "text": [
      "Sampling 1 chain for 500 tune and 1_000 draw iterations (500 + 1_000 draws total) took 27 seconds.\n",
      "Only one chain was sampled, this makes it impossible to run some convergence checks\n",
      "Sampling: [y_like]\n"
     ]
    },
    {
     "data": {
      "text/plain": "<IPython.core.display.HTML object>",
      "text/html": "\n<style>\n    /* Turns off some styling */\n    progress {\n        /* gets rid of default border in Firefox and Opera. */\n        border: none;\n        /* Needs to be in here for Safari polyfill so background images work as expected. */\n        background-size: auto;\n    }\n    progress:not([value]), progress:not([value])::-webkit-progress-bar {\n        background: repeating-linear-gradient(45deg, #7e7e7e, #7e7e7e 10px, #5c5c5c 10px, #5c5c5c 20px);\n    }\n    .progress-bar-interrupted, .progress-bar-interrupted::-webkit-progress-bar {\n        background: #F44336;\n    }\n</style>\n"
     },
     "metadata": {},
     "output_type": "display_data"
    },
    {
     "data": {
      "text/plain": "<IPython.core.display.HTML object>",
      "text/html": "\n    <div>\n      <progress value='0' class='' max='1000' style='width:300px; height:20px; vertical-align: middle;'></progress>\n      \n    </div>\n    "
     },
     "metadata": {},
     "output_type": "display_data"
    },
    {
     "name": "stdout",
     "output_type": "stream",
     "text": [
      "Using HBR transform...\n",
      "Transferring model  5 of 10\n"
     ]
    },
    {
     "name": "stderr",
     "output_type": "stream",
     "text": [
      "Auto-assigning NUTS sampler...\n",
      "Initializing NUTS using jitter+adapt_diag...\n",
      "Sequential sampling (1 chains in 1 job)\n",
      "NUTS: [mu_slope_mu, sigma_slope_mu, offset_slope_mu, mu_intercept_mu, sigma_intercept_mu, offset_intercept_mu, mu_sigma, sigma_sigma, sigma]\n"
     ]
    },
    {
     "data": {
      "text/plain": "<IPython.core.display.HTML object>",
      "text/html": "\n<style>\n    /* Turns off some styling */\n    progress {\n        /* gets rid of default border in Firefox and Opera. */\n        border: none;\n        /* Needs to be in here for Safari polyfill so background images work as expected. */\n        background-size: auto;\n    }\n    progress:not([value]), progress:not([value])::-webkit-progress-bar {\n        background: repeating-linear-gradient(45deg, #7e7e7e, #7e7e7e 10px, #5c5c5c 10px, #5c5c5c 20px);\n    }\n    .progress-bar-interrupted, .progress-bar-interrupted::-webkit-progress-bar {\n        background: #F44336;\n    }\n</style>\n"
     },
     "metadata": {},
     "output_type": "display_data"
    },
    {
     "data": {
      "text/plain": "<IPython.core.display.HTML object>",
      "text/html": "\n    <div>\n      <progress value='0' class='' max='1500' style='width:300px; height:20px; vertical-align: middle;'></progress>\n      \n    </div>\n    "
     },
     "metadata": {},
     "output_type": "display_data"
    },
    {
     "name": "stderr",
     "output_type": "stream",
     "text": [
      "Sampling 1 chain for 500 tune and 1_000 draw iterations (500 + 1_000 draws total) took 28 seconds.\n",
      "Only one chain was sampled, this makes it impossible to run some convergence checks\n",
      "Sampling: [y_like]\n"
     ]
    },
    {
     "data": {
      "text/plain": "<IPython.core.display.HTML object>",
      "text/html": "\n<style>\n    /* Turns off some styling */\n    progress {\n        /* gets rid of default border in Firefox and Opera. */\n        border: none;\n        /* Needs to be in here for Safari polyfill so background images work as expected. */\n        background-size: auto;\n    }\n    progress:not([value]), progress:not([value])::-webkit-progress-bar {\n        background: repeating-linear-gradient(45deg, #7e7e7e, #7e7e7e 10px, #5c5c5c 10px, #5c5c5c 20px);\n    }\n    .progress-bar-interrupted, .progress-bar-interrupted::-webkit-progress-bar {\n        background: #F44336;\n    }\n</style>\n"
     },
     "metadata": {},
     "output_type": "display_data"
    },
    {
     "data": {
      "text/plain": "<IPython.core.display.HTML object>",
      "text/html": "\n    <div>\n      <progress value='0' class='' max='1000' style='width:300px; height:20px; vertical-align: middle;'></progress>\n      \n    </div>\n    "
     },
     "metadata": {},
     "output_type": "display_data"
    },
    {
     "name": "stdout",
     "output_type": "stream",
     "text": [
      "Using HBR transform...\n",
      "Transferring model  6 of 10\n"
     ]
    },
    {
     "name": "stderr",
     "output_type": "stream",
     "text": [
      "Auto-assigning NUTS sampler...\n",
      "Initializing NUTS using jitter+adapt_diag...\n",
      "Sequential sampling (1 chains in 1 job)\n",
      "NUTS: [mu_slope_mu, sigma_slope_mu, offset_slope_mu, mu_intercept_mu, sigma_intercept_mu, offset_intercept_mu, mu_sigma, sigma_sigma, sigma]\n"
     ]
    },
    {
     "data": {
      "text/plain": "<IPython.core.display.HTML object>",
      "text/html": "\n<style>\n    /* Turns off some styling */\n    progress {\n        /* gets rid of default border in Firefox and Opera. */\n        border: none;\n        /* Needs to be in here for Safari polyfill so background images work as expected. */\n        background-size: auto;\n    }\n    progress:not([value]), progress:not([value])::-webkit-progress-bar {\n        background: repeating-linear-gradient(45deg, #7e7e7e, #7e7e7e 10px, #5c5c5c 10px, #5c5c5c 20px);\n    }\n    .progress-bar-interrupted, .progress-bar-interrupted::-webkit-progress-bar {\n        background: #F44336;\n    }\n</style>\n"
     },
     "metadata": {},
     "output_type": "display_data"
    },
    {
     "data": {
      "text/plain": "<IPython.core.display.HTML object>",
      "text/html": "\n    <div>\n      <progress value='0' class='' max='1500' style='width:300px; height:20px; vertical-align: middle;'></progress>\n      \n    </div>\n    "
     },
     "metadata": {},
     "output_type": "display_data"
    },
    {
     "name": "stderr",
     "output_type": "stream",
     "text": [
      "Sampling 1 chain for 500 tune and 1_000 draw iterations (500 + 1_000 draws total) took 37 seconds.\n",
      "Only one chain was sampled, this makes it impossible to run some convergence checks\n",
      "Sampling: [y_like]\n"
     ]
    },
    {
     "data": {
      "text/plain": "<IPython.core.display.HTML object>",
      "text/html": "\n<style>\n    /* Turns off some styling */\n    progress {\n        /* gets rid of default border in Firefox and Opera. */\n        border: none;\n        /* Needs to be in here for Safari polyfill so background images work as expected. */\n        background-size: auto;\n    }\n    progress:not([value]), progress:not([value])::-webkit-progress-bar {\n        background: repeating-linear-gradient(45deg, #7e7e7e, #7e7e7e 10px, #5c5c5c 10px, #5c5c5c 20px);\n    }\n    .progress-bar-interrupted, .progress-bar-interrupted::-webkit-progress-bar {\n        background: #F44336;\n    }\n</style>\n"
     },
     "metadata": {},
     "output_type": "display_data"
    },
    {
     "data": {
      "text/plain": "<IPython.core.display.HTML object>",
      "text/html": "\n    <div>\n      <progress value='0' class='' max='1000' style='width:300px; height:20px; vertical-align: middle;'></progress>\n      \n    </div>\n    "
     },
     "metadata": {},
     "output_type": "display_data"
    },
    {
     "name": "stdout",
     "output_type": "stream",
     "text": [
      "Using HBR transform...\n",
      "Transferring model  7 of 10\n"
     ]
    },
    {
     "name": "stderr",
     "output_type": "stream",
     "text": [
      "Auto-assigning NUTS sampler...\n",
      "Initializing NUTS using jitter+adapt_diag...\n",
      "Sequential sampling (1 chains in 1 job)\n",
      "NUTS: [mu_slope_mu, sigma_slope_mu, offset_slope_mu, mu_intercept_mu, sigma_intercept_mu, offset_intercept_mu, mu_sigma, sigma_sigma, sigma]\n"
     ]
    },
    {
     "data": {
      "text/plain": "<IPython.core.display.HTML object>",
      "text/html": "\n<style>\n    /* Turns off some styling */\n    progress {\n        /* gets rid of default border in Firefox and Opera. */\n        border: none;\n        /* Needs to be in here for Safari polyfill so background images work as expected. */\n        background-size: auto;\n    }\n    progress:not([value]), progress:not([value])::-webkit-progress-bar {\n        background: repeating-linear-gradient(45deg, #7e7e7e, #7e7e7e 10px, #5c5c5c 10px, #5c5c5c 20px);\n    }\n    .progress-bar-interrupted, .progress-bar-interrupted::-webkit-progress-bar {\n        background: #F44336;\n    }\n</style>\n"
     },
     "metadata": {},
     "output_type": "display_data"
    },
    {
     "data": {
      "text/plain": "<IPython.core.display.HTML object>",
      "text/html": "\n    <div>\n      <progress value='0' class='' max='1500' style='width:300px; height:20px; vertical-align: middle;'></progress>\n      \n    </div>\n    "
     },
     "metadata": {},
     "output_type": "display_data"
    },
    {
     "name": "stderr",
     "output_type": "stream",
     "text": [
      "Sampling 1 chain for 500 tune and 1_000 draw iterations (500 + 1_000 draws total) took 24 seconds.\n",
      "Only one chain was sampled, this makes it impossible to run some convergence checks\n",
      "Sampling: [y_like]\n"
     ]
    },
    {
     "data": {
      "text/plain": "<IPython.core.display.HTML object>",
      "text/html": "\n<style>\n    /* Turns off some styling */\n    progress {\n        /* gets rid of default border in Firefox and Opera. */\n        border: none;\n        /* Needs to be in here for Safari polyfill so background images work as expected. */\n        background-size: auto;\n    }\n    progress:not([value]), progress:not([value])::-webkit-progress-bar {\n        background: repeating-linear-gradient(45deg, #7e7e7e, #7e7e7e 10px, #5c5c5c 10px, #5c5c5c 20px);\n    }\n    .progress-bar-interrupted, .progress-bar-interrupted::-webkit-progress-bar {\n        background: #F44336;\n    }\n</style>\n"
     },
     "metadata": {},
     "output_type": "display_data"
    },
    {
     "data": {
      "text/plain": "<IPython.core.display.HTML object>",
      "text/html": "\n    <div>\n      <progress value='0' class='' max='1000' style='width:300px; height:20px; vertical-align: middle;'></progress>\n      \n    </div>\n    "
     },
     "metadata": {},
     "output_type": "display_data"
    },
    {
     "name": "stdout",
     "output_type": "stream",
     "text": [
      "Using HBR transform...\n",
      "Transferring model  8 of 10\n"
     ]
    },
    {
     "name": "stderr",
     "output_type": "stream",
     "text": [
      "Auto-assigning NUTS sampler...\n",
      "Initializing NUTS using jitter+adapt_diag...\n",
      "Sequential sampling (1 chains in 1 job)\n",
      "NUTS: [mu_slope_mu, sigma_slope_mu, offset_slope_mu, mu_intercept_mu, sigma_intercept_mu, offset_intercept_mu, mu_sigma, sigma_sigma, sigma]\n"
     ]
    },
    {
     "data": {
      "text/plain": "<IPython.core.display.HTML object>",
      "text/html": "\n<style>\n    /* Turns off some styling */\n    progress {\n        /* gets rid of default border in Firefox and Opera. */\n        border: none;\n        /* Needs to be in here for Safari polyfill so background images work as expected. */\n        background-size: auto;\n    }\n    progress:not([value]), progress:not([value])::-webkit-progress-bar {\n        background: repeating-linear-gradient(45deg, #7e7e7e, #7e7e7e 10px, #5c5c5c 10px, #5c5c5c 20px);\n    }\n    .progress-bar-interrupted, .progress-bar-interrupted::-webkit-progress-bar {\n        background: #F44336;\n    }\n</style>\n"
     },
     "metadata": {},
     "output_type": "display_data"
    },
    {
     "data": {
      "text/plain": "<IPython.core.display.HTML object>",
      "text/html": "\n    <div>\n      <progress value='0' class='' max='1500' style='width:300px; height:20px; vertical-align: middle;'></progress>\n      \n    </div>\n    "
     },
     "metadata": {},
     "output_type": "display_data"
    },
    {
     "name": "stderr",
     "output_type": "stream",
     "text": [
      "Sampling 1 chain for 500 tune and 1_000 draw iterations (500 + 1_000 draws total) took 30 seconds.\n",
      "Only one chain was sampled, this makes it impossible to run some convergence checks\n",
      "Sampling: [y_like]\n"
     ]
    },
    {
     "data": {
      "text/plain": "<IPython.core.display.HTML object>",
      "text/html": "\n<style>\n    /* Turns off some styling */\n    progress {\n        /* gets rid of default border in Firefox and Opera. */\n        border: none;\n        /* Needs to be in here for Safari polyfill so background images work as expected. */\n        background-size: auto;\n    }\n    progress:not([value]), progress:not([value])::-webkit-progress-bar {\n        background: repeating-linear-gradient(45deg, #7e7e7e, #7e7e7e 10px, #5c5c5c 10px, #5c5c5c 20px);\n    }\n    .progress-bar-interrupted, .progress-bar-interrupted::-webkit-progress-bar {\n        background: #F44336;\n    }\n</style>\n"
     },
     "metadata": {},
     "output_type": "display_data"
    },
    {
     "data": {
      "text/plain": "<IPython.core.display.HTML object>",
      "text/html": "\n    <div>\n      <progress value='0' class='' max='1000' style='width:300px; height:20px; vertical-align: middle;'></progress>\n      \n    </div>\n    "
     },
     "metadata": {},
     "output_type": "display_data"
    },
    {
     "name": "stdout",
     "output_type": "stream",
     "text": [
      "Using HBR transform...\n",
      "Transferring model  9 of 10\n"
     ]
    },
    {
     "name": "stderr",
     "output_type": "stream",
     "text": [
      "Auto-assigning NUTS sampler...\n",
      "Initializing NUTS using jitter+adapt_diag...\n",
      "Sequential sampling (1 chains in 1 job)\n",
      "NUTS: [mu_slope_mu, sigma_slope_mu, offset_slope_mu, mu_intercept_mu, sigma_intercept_mu, offset_intercept_mu, mu_sigma, sigma_sigma, sigma]\n"
     ]
    },
    {
     "data": {
      "text/plain": "<IPython.core.display.HTML object>",
      "text/html": "\n<style>\n    /* Turns off some styling */\n    progress {\n        /* gets rid of default border in Firefox and Opera. */\n        border: none;\n        /* Needs to be in here for Safari polyfill so background images work as expected. */\n        background-size: auto;\n    }\n    progress:not([value]), progress:not([value])::-webkit-progress-bar {\n        background: repeating-linear-gradient(45deg, #7e7e7e, #7e7e7e 10px, #5c5c5c 10px, #5c5c5c 20px);\n    }\n    .progress-bar-interrupted, .progress-bar-interrupted::-webkit-progress-bar {\n        background: #F44336;\n    }\n</style>\n"
     },
     "metadata": {},
     "output_type": "display_data"
    },
    {
     "data": {
      "text/plain": "<IPython.core.display.HTML object>",
      "text/html": "\n    <div>\n      <progress value='0' class='' max='1500' style='width:300px; height:20px; vertical-align: middle;'></progress>\n      \n    </div>\n    "
     },
     "metadata": {},
     "output_type": "display_data"
    },
    {
     "name": "stderr",
     "output_type": "stream",
     "text": [
      "Sampling 1 chain for 500 tune and 1_000 draw iterations (500 + 1_000 draws total) took 23 seconds.\n",
      "Only one chain was sampled, this makes it impossible to run some convergence checks\n",
      "Sampling: [y_like]\n"
     ]
    },
    {
     "data": {
      "text/plain": "<IPython.core.display.HTML object>",
      "text/html": "\n<style>\n    /* Turns off some styling */\n    progress {\n        /* gets rid of default border in Firefox and Opera. */\n        border: none;\n        /* Needs to be in here for Safari polyfill so background images work as expected. */\n        background-size: auto;\n    }\n    progress:not([value]), progress:not([value])::-webkit-progress-bar {\n        background: repeating-linear-gradient(45deg, #7e7e7e, #7e7e7e 10px, #5c5c5c 10px, #5c5c5c 20px);\n    }\n    .progress-bar-interrupted, .progress-bar-interrupted::-webkit-progress-bar {\n        background: #F44336;\n    }\n</style>\n"
     },
     "metadata": {},
     "output_type": "display_data"
    },
    {
     "data": {
      "text/plain": "<IPython.core.display.HTML object>",
      "text/html": "\n    <div>\n      <progress value='0' class='' max='1000' style='width:300px; height:20px; vertical-align: middle;'></progress>\n      \n    </div>\n    "
     },
     "metadata": {},
     "output_type": "display_data"
    },
    {
     "name": "stdout",
     "output_type": "stream",
     "text": [
      "Using HBR transform...\n",
      "Transferring model  10 of 10\n"
     ]
    },
    {
     "name": "stderr",
     "output_type": "stream",
     "text": [
      "Auto-assigning NUTS sampler...\n",
      "Initializing NUTS using jitter+adapt_diag...\n",
      "Sequential sampling (1 chains in 1 job)\n",
      "NUTS: [mu_slope_mu, sigma_slope_mu, offset_slope_mu, mu_intercept_mu, sigma_intercept_mu, offset_intercept_mu, mu_sigma, sigma_sigma, sigma]\n"
     ]
    },
    {
     "data": {
      "text/plain": "<IPython.core.display.HTML object>",
      "text/html": "\n<style>\n    /* Turns off some styling */\n    progress {\n        /* gets rid of default border in Firefox and Opera. */\n        border: none;\n        /* Needs to be in here for Safari polyfill so background images work as expected. */\n        background-size: auto;\n    }\n    progress:not([value]), progress:not([value])::-webkit-progress-bar {\n        background: repeating-linear-gradient(45deg, #7e7e7e, #7e7e7e 10px, #5c5c5c 10px, #5c5c5c 20px);\n    }\n    .progress-bar-interrupted, .progress-bar-interrupted::-webkit-progress-bar {\n        background: #F44336;\n    }\n</style>\n"
     },
     "metadata": {},
     "output_type": "display_data"
    },
    {
     "data": {
      "text/plain": "<IPython.core.display.HTML object>",
      "text/html": "\n    <div>\n      <progress value='0' class='' max='1500' style='width:300px; height:20px; vertical-align: middle;'></progress>\n      \n    </div>\n    "
     },
     "metadata": {},
     "output_type": "display_data"
    },
    {
     "name": "stderr",
     "output_type": "stream",
     "text": [
      "Sampling 1 chain for 500 tune and 1_000 draw iterations (500 + 1_000 draws total) took 28 seconds.\n",
      "Only one chain was sampled, this makes it impossible to run some convergence checks\n",
      "Sampling: [y_like]\n"
     ]
    },
    {
     "data": {
      "text/plain": "<IPython.core.display.HTML object>",
      "text/html": "\n<style>\n    /* Turns off some styling */\n    progress {\n        /* gets rid of default border in Firefox and Opera. */\n        border: none;\n        /* Needs to be in here for Safari polyfill so background images work as expected. */\n        background-size: auto;\n    }\n    progress:not([value]), progress:not([value])::-webkit-progress-bar {\n        background: repeating-linear-gradient(45deg, #7e7e7e, #7e7e7e 10px, #5c5c5c 10px, #5c5c5c 20px);\n    }\n    .progress-bar-interrupted, .progress-bar-interrupted::-webkit-progress-bar {\n        background: #F44336;\n    }\n</style>\n"
     },
     "metadata": {},
     "output_type": "display_data"
    },
    {
     "data": {
      "text/plain": "<IPython.core.display.HTML object>",
      "text/html": "\n    <div>\n      <progress value='0' class='' max='1000' style='width:300px; height:20px; vertical-align: middle;'></progress>\n      \n    </div>\n    "
     },
     "metadata": {},
     "output_type": "display_data"
    },
    {
     "name": "stdout",
     "output_type": "stream",
     "text": [
      "Evaluating the model ...\n",
      "Writing outputs ...\n"
     ]
    }
   ],
   "source": [
    "yhat, s2, z_scores = ptk.normative.transfer(covfile=covfile,\n",
    "                                            respfile=respfile,\n",
    "                                            tsbefile=tsbefile,\n",
    "                                            trbefile=trbefile,\n",
    "                                            #inscaler='standardize',\n",
    "                                            #outscaler='standardize',\n",
    "                                            #linear_mu='True',\n",
    "                                            #random_intercept_mu='True',\n",
    "                                            #centered_intercept_mu='True',\n",
    "                                            model_path = model_path,\n",
    "                                            alg='hbr',\n",
    "                                            log_path=log_dir,\n",
    "                                            binary=True,\n",
    "                                            output_path=output_path,\n",
    "                                            testcov= testcovfile_path,\n",
    "                                            testresp = testrespfile_path,\n",
    "                                            outputsuffix=outputsuffix,\n",
    "                                            savemodel=True)"
   ],
   "metadata": {
    "collapsed": false,
    "ExecuteTime": {
     "end_time": "2024-04-22T09:32:12.556987Z",
     "start_time": "2024-04-22T09:27:36.607333Z"
    }
   }
  },
  {
   "cell_type": "code",
   "execution_count": null,
   "outputs": [],
   "source": [
    "RMSE = pd.read_pickle('RMSE_estimate.pkl')\n",
    "print(RMSE)"
   ],
   "metadata": {
    "collapsed": false
   }
  },
  {
   "cell_type": "code",
   "execution_count": null,
   "outputs": [],
   "source": [
    "res = pd.read_pickle('RMSE_transfer.pkl')\n",
    "print(res)"
   ],
   "metadata": {
    "collapsed": false
   }
  },
  {
   "cell_type": "code",
   "execution_count": null,
   "outputs": [],
   "source": [
    "rperson = pd.read_pickle('Rho_transfer.pkl')\n",
    "print(rperson)"
   ],
   "metadata": {
    "collapsed": false
   }
  },
  {
   "cell_type": "code",
   "execution_count": null,
   "outputs": [],
   "source": [
    "smse = pd.read_pickle('SMSE_transfer.pkl')\n",
    "print(smse)"
   ],
   "metadata": {
    "collapsed": false
   }
  }
 ],
 "metadata": {
  "kernelspec": {
   "display_name": "Python 3",
   "language": "python",
   "name": "python3"
  },
  "language_info": {
   "codemirror_mode": {
    "name": "ipython",
    "version": 2
   },
   "file_extension": ".py",
   "mimetype": "text/x-python",
   "name": "python",
   "nbconvert_exporter": "python",
   "pygments_lexer": "ipython2",
   "version": "2.7.6"
  }
 },
 "nbformat": 4,
 "nbformat_minor": 0
}
